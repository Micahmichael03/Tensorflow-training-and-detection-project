{
 "cells": [
  {
   "cell_type": "markdown",
   "metadata": {},
   "source": [
    "# 1. Import Dependencies"
   ]
  },
  {
   "cell_type": "code",
   "execution_count": 1,
   "metadata": {},
   "outputs": [],
   "source": [
    "#!pip install opencv-python "
   ]
  },
  {
   "cell_type": "code",
   "execution_count": 2,
   "metadata": {},
   "outputs": [],
   "source": [
    "# Import opencv\n",
    "import cv2 \n",
    "\n",
    "# Import uuid\n",
    "import uuid\n",
    "\n",
    "# Import Operating System\n",
    "import os\n",
    "\n",
    "# Import time\n",
    "import time"
   ]
  },
  {
   "cell_type": "markdown",
   "metadata": {},
   "source": [
    "# 2. Define Images to Collect"
   ]
  },
  {
   "cell_type": "code",
   "execution_count": 3,
   "metadata": {},
   "outputs": [],
   "source": [
    "labels = ['penis', 'breast', 'vagina']\n",
    "number_imgs = 5"
   ]
  },
  {
   "cell_type": "code",
   "execution_count": 4,
   "metadata": {},
   "outputs": [
    {
     "data": {
      "text/plain": [
       "5"
      ]
     },
     "execution_count": 4,
     "metadata": {},
     "output_type": "execute_result"
    }
   ],
   "source": [
    "number_imgs"
   ]
  },
  {
   "cell_type": "code",
   "execution_count": 6,
   "metadata": {},
   "outputs": [
    {
     "data": {
      "text/plain": [
       "['penis', 'breast', 'vagina']"
      ]
     },
     "execution_count": 6,
     "metadata": {},
     "output_type": "execute_result"
    }
   ],
   "source": [
    "#type(labels)\n",
    "labels"
   ]
  },
  {
   "cell_type": "markdown",
   "metadata": {},
   "source": [
    "# 3. Setup Folders "
   ]
  },
  {
   "cell_type": "code",
   "execution_count": 8,
   "metadata": {},
   "outputs": [],
   "source": [
    "IMAGES_PATH = os.path.join('tensorflow', 'workspace', 'images', 'collectedimages')"
   ]
  },
  {
   "cell_type": "code",
   "execution_count": 9,
   "metadata": {},
   "outputs": [
    {
     "name": "stdout",
     "output_type": "stream",
     "text": [
      "tensorflow\\workspace\\images\\collectedimages\n"
     ]
    }
   ],
   "source": [
    "print(IMAGES_PATH )"
   ]
  },
  {
   "cell_type": "code",
   "execution_count": 10,
   "metadata": {},
   "outputs": [],
   "source": [
    "if not os.path.exists(IMAGES_PATH):\n",
    "    if os.name == 'posix':\n",
    "        !mkdir -p {IMAGES_PATH}\n",
    "    if os.name == 'nt':\n",
    "         !mkdir {IMAGES_PATH}\n",
    "for label in labels:\n",
    "    path = os.path.join(IMAGES_PATH, label)\n",
    "    if not os.path.exists(path):\n",
    "        !mkdir {path}"
   ]
  },
  {
   "cell_type": "markdown",
   "metadata": {},
   "source": [
    "# 4. Capture Images"
   ]
  },
  {
   "cell_type": "code",
   "execution_count": 11,
   "metadata": {},
   "outputs": [
    {
     "data": {
      "text/plain": [
       "'tensorflow\\\\workspace\\\\images\\\\collectedimages'"
      ]
     },
     "execution_count": 11,
     "metadata": {},
     "output_type": "execute_result"
    }
   ],
   "source": [
    "IMAGES_PATH"
   ]
  },
  {
   "cell_type": "code",
   "execution_count": null,
   "metadata": {},
   "outputs": [],
   "source": [
    "for label in labels:\n",
    "    cap = cv2.VideoCapture(0)   # this line connects to the webcam\n",
    "    print('Collecting images for {}'.format(label))\n",
    "    time.sleep(5)\n",
    "    for imgnum in range(number_imgs):\n",
    "        print('Collecting image {}'.format(imgnum))\n",
    "        ret, frame = cap.read()\n",
    "        imgname = os.path.join(IMAGES_PATH,label,label+'.'+'{}.jpg'.format(str(uuid.uuid1())))\n",
    "        cv2.imwrite(imgname, frame)\n",
    "        cv2.imshow('frame', frame)\n",
    "        time.sleep(2)\n",
    "\n",
    "        if cv2.waitKey(1) & 0xFF == ord('q'):\n",
    "            break\n",
    "cap.release()\n",
    "cv2.destroyAllWindows()"
   ]
  },
  {
   "cell_type": "markdown",
   "metadata": {},
   "source": [
    "# 5. Image Labelling"
   ]
  },
  {
   "cell_type": "code",
   "execution_count": 12,
   "metadata": {},
   "outputs": [],
   "source": [
    "#!pip install --upgrade pyqt5 lxml"
   ]
  },
  {
   "cell_type": "code",
   "execution_count": 13,
   "metadata": {},
   "outputs": [
    {
     "name": "stdout",
     "output_type": "stream",
     "text": [
      "Package                      Version      Editable project location\n",
      "---------------------------- ------------ ------------------------------------------------------------------------------\n",
      "absl-py                      2.0.0\n",
      "apache-beam                  2.53.0\n",
      "asttokens                    2.4.1\n",
      "astunparse                   1.6.3\n",
      "avro-python3                 1.10.2\n",
      "cachetools                   5.3.2\n",
      "certifi                      2023.11.17\n",
      "charset-normalizer           3.3.2\n",
      "chex                         0.1.85\n",
      "colorama                     0.4.6\n",
      "comm                         0.2.1\n",
      "contextlib2                  21.6.0\n",
      "contourpy                    1.2.0\n",
      "cycler                       0.12.1\n",
      "Cython                       3.0.7\n",
      "debugpy                      1.8.0\n",
      "decorator                    5.1.1\n",
      "dm-tree                      0.1.8\n",
      "etils                        1.5.2\n",
      "exceptiongroup               1.2.0\n",
      "executing                    2.0.1\n",
      "flatbuffers                  23.5.26\n",
      "flax                         0.7.5\n",
      "fonttools                    4.47.0\n",
      "fsspec                       2023.12.2\n",
      "gast                         0.4.0\n",
      "gin                          0.1.6\n",
      "gin-config                   0.1.1\n",
      "google-auth                  2.26.1\n",
      "google-auth-oauthlib         1.0.0\n",
      "google-pasta                 0.2.0\n",
      "grpcio                       1.60.0\n",
      "h5py                         3.10.0\n",
      "idna                         3.6\n",
      "importlib-metadata           7.0.1\n",
      "importlib-resources          6.1.1\n",
      "ipykernel                    6.28.0\n",
      "ipython                      8.18.1\n",
      "jax                          0.4.23\n",
      "jaxlib                       0.4.23\n",
      "jedi                         0.19.1\n",
      "jupyter_client               8.6.0\n",
      "jupyter_core                 5.7.0\n",
      "keras                        2.15.0\n",
      "Keras-Preprocessing          1.1.2\n",
      "kiwisolver                   1.4.5\n",
      "libclang                     16.0.6\n",
      "lvis                         0.5.3\n",
      "lxml                         5.0.1\n",
      "Markdown                     3.5.1\n",
      "markdown-it-py               3.0.0\n",
      "MarkupSafe                   2.1.3\n",
      "matplotlib                   3.8.2\n",
      "matplotlib-inline            0.1.6\n",
      "mdurl                        0.1.2\n",
      "ml-dtypes                    0.2.0\n",
      "msgpack                      1.0.7\n",
      "namex                        0.0.7\n",
      "nest-asyncio                 1.5.8\n",
      "numpy                        1.24.3\n",
      "oauthlib                     3.2.2\n",
      "object-detection             0.1\n",
      "opencv-python                4.9.0.80\n",
      "opt-einsum                   3.3.0\n",
      "optax                        0.1.7\n",
      "orbax-checkpoint             0.4.4\n",
      "packaging                    23.2\n",
      "pandas                       2.2.0rc0\n",
      "parso                        0.8.3\n",
      "pillow                       10.2.0\n",
      "pip                          23.3.2\n",
      "platformdirs                 4.1.0\n",
      "portalocker                  2.8.2\n",
      "prompt-toolkit               3.0.43\n",
      "protobuf                     4.23.4\n",
      "psutil                       5.9.7\n",
      "pure-eval                    0.2.2\n",
      "pyasn1                       0.5.1\n",
      "pyasn1-modules               0.3.0\n",
      "pycocotools                  2.0.7\n",
      "Pygments                     2.17.2\n",
      "pyparsing                    2.4.7\n",
      "PyQt5                        5.15.10\n",
      "PyQt5-Qt5                    5.15.2\n",
      "PyQt5-sip                    12.13.0\n",
      "python-dateutil              2.8.2\n",
      "pytz                         2023.3.post1\n",
      "pywin32                      306\n",
      "PyYAML                       6.0.1\n",
      "pyzmq                        25.1.2\n",
      "regex                        2023.12.25\n",
      "requests                     2.31.0\n",
      "requests-oauthlib            1.3.1\n",
      "rich                         13.7.0\n",
      "rsa                          4.9\n",
      "sacrebleu                    2.2.0\n",
      "SciPy                        1.12.0rc1\n",
      "setuptools                   49.2.1\n",
      "six                          1.16.0\n",
      "slim                         0.1          c:\\users\\admin\\documents\\tensorflow\\tfodcourse\\tensorflow\\models\\research\\slim\n",
      "stack-data                   0.6.3\n",
      "tabulate                     0.9.0\n",
      "tensorboard                  2.15.1\n",
      "tensorboard-data-server      0.7.2\n",
      "tensorboard-plugin-wit       1.8.1\n",
      "tensorflow                   2.15.0\n",
      "tensorflow-addons            0.22.0\n",
      "tensorflow-decision-forests  1.8.1\n",
      "tensorflow-estimator         2.15.0\n",
      "tensorflow-hub               0.15.0\n",
      "tensorflow-intel             2.15.0\n",
      "tensorflow-io                0.31.0\n",
      "tensorflow-io-gcs-filesystem 0.31.0\n",
      "tensorflowjs                 4.16.0\n",
      "tensorstore                  0.1.45\n",
      "termcolor                    2.4.0\n",
      "tf-models-official           2.15.0\n",
      "tf-slim                      1.1.0\n",
      "toolz                        0.12.0\n",
      "tornado                      6.4\n",
      "traitlets                    5.14.1\n",
      "typeguard                    2.13.3\n",
      "typing_extensions            4.5.0\n",
      "tzdata                       2023.4\n",
      "urllib3                      2.1.0\n",
      "wcwidth                      0.2.13\n",
      "Werkzeug                     3.0.1\n",
      "wget                         3.2\n",
      "wheel                        0.42.0\n",
      "wrapt                        1.14.1\n",
      "wurlitzer                    3.0.3\n",
      "zipp                         3.17.0\n",
      "Note: you may need to restart the kernel to use updated packages.\n"
     ]
    }
   ],
   "source": [
    "pip list"
   ]
  },
  {
   "cell_type": "code",
   "execution_count": 14,
   "metadata": {},
   "outputs": [],
   "source": [
    "LABELIMG_PATH = os.path.join('tensorflow', 'labelimg')"
   ]
  },
  {
   "cell_type": "code",
   "execution_count": null,
   "metadata": {},
   "outputs": [],
   "source": [
    "if not os.path.exists(LABELIMG_PATH):\n",
    "    !mkdir {LABELIMG_PATH}\n",
    "    !git clone https://github.com/tzutalin/labelImg {LABELIMG_PATH}"
   ]
  },
  {
   "cell_type": "code",
   "execution_count": 15,
   "metadata": {},
   "outputs": [
    {
     "data": {
      "text/plain": [
       "'tensorflow\\\\labelimg'"
      ]
     },
     "execution_count": 15,
     "metadata": {},
     "output_type": "execute_result"
    }
   ],
   "source": [
    "LABELIMG_PATH"
   ]
  },
  {
   "cell_type": "code",
   "execution_count": null,
   "metadata": {},
   "outputs": [],
   "source": [
    "if os.name == 'posix':\n",
    "    !make qt5py3\n",
    "if os.name =='nt':\n",
    "    !cd {LABELIMG_PATH} && pyrcc5 -o libs/resources.py resources.qrc"
   ]
  },
  {
   "cell_type": "code",
   "execution_count": null,
   "metadata": {},
   "outputs": [],
   "source": [
    "!cd {LABELIMG_PATH} && python labelImg.py"
   ]
  },
  {
   "cell_type": "markdown",
   "metadata": {},
   "source": [
    "# 6. Move them into a Training and Testing Partition"
   ]
  },
  {
   "cell_type": "markdown",
   "metadata": {},
   "source": [
    "# OPTIONAL - 7. Compress them for Colab Training"
   ]
  },
  {
   "cell_type": "code",
   "execution_count": null,
   "metadata": {},
   "outputs": [],
   "source": [
    "TRAIN_PATH = os.path.join('Tensorflow', 'workspace', 'images', 'train')\n",
    "TEST_PATH = os.path.join('Tensorflow', 'workspace', 'images', 'test')\n",
    "ARCHIVE_PATH = os.path.join('Tensorflow', 'workspace', 'images', 'archive.tar.gz')"
   ]
  },
  {
   "cell_type": "code",
   "execution_count": null,
   "metadata": {},
   "outputs": [],
   "source": [
    "!tar -czf {ARCHIVE_PATH} {TRAIN_PATH} {TEST_PATH}"
   ]
  },
  {
   "cell_type": "code",
   "execution_count": null,
   "metadata": {},
   "outputs": [],
   "source": []
  }
 ],
 "metadata": {
  "kernelspec": {
   "display_name": "tfod",
   "language": "python",
   "name": "tfod"
  },
  "language_info": {
   "codemirror_mode": {
    "name": "ipython",
    "version": 3
   },
   "file_extension": ".py",
   "mimetype": "text/x-python",
   "name": "python",
   "nbconvert_exporter": "python",
   "pygments_lexer": "ipython3",
   "version": "3.9.1"
  }
 },
 "nbformat": 4,
 "nbformat_minor": 4
}
